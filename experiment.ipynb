{
 "cells": [
  {
   "cell_type": "code",
   "execution_count": 5,
   "metadata": {},
   "outputs": [
    {
     "name": "stdout",
     "output_type": "stream",
     "text": [
      "Index(['total_inc_p10', 'total_inc_p20', 'total_inc_p30', 'total_inc_p40',\n",
      "       'total_inc_p50', 'total_inc_p60', 'total_inc_p70', 'total_inc_p80',\n",
      "       'total_inc_p90', 'total_inc_p99', 'total_inc_mean'],\n",
      "      dtype='object')\n"
     ]
    },
    {
     "ename": "KeyError",
     "evalue": "\"The following 'id_vars' are not present in the DataFrame: ['age', 'year']\"",
     "output_type": "error",
     "traceback": [
      "\u001b[0;31m---------------------------------------------------------------------------\u001b[0m",
      "\u001b[0;31mKeyError\u001b[0m                                  Traceback (most recent call last)",
      "Cell \u001b[0;32mIn[5], line 15\u001b[0m\n\u001b[1;32m     12\u001b[0m \u001b[38;5;28mprint\u001b[39m(total_inc_df\u001b[38;5;241m.\u001b[39mcolumns)\n\u001b[1;32m     14\u001b[0m \u001b[38;5;66;03m# Melt the DataFrames to convert percentiles to a single column\u001b[39;00m\n\u001b[0;32m---> 15\u001b[0m total_inc_df_melted \u001b[38;5;241m=\u001b[39m \u001b[43mpd\u001b[49m\u001b[38;5;241;43m.\u001b[39;49m\u001b[43mmelt\u001b[49m\u001b[43m(\u001b[49m\u001b[43mtotal_inc_df\u001b[49m\u001b[43m,\u001b[49m\u001b[43m \u001b[49m\u001b[43mid_vars\u001b[49m\u001b[38;5;241;43m=\u001b[39;49m\u001b[43m[\u001b[49m\u001b[38;5;124;43m'\u001b[39;49m\u001b[38;5;124;43myear\u001b[39;49m\u001b[38;5;124;43m'\u001b[39;49m\u001b[43m,\u001b[49m\u001b[43m \u001b[49m\u001b[38;5;124;43m'\u001b[39;49m\u001b[38;5;124;43mage\u001b[39;49m\u001b[38;5;124;43m'\u001b[39;49m\u001b[43m]\u001b[49m\u001b[43m,\u001b[49m\u001b[43m \u001b[49m\u001b[43mvar_name\u001b[49m\u001b[38;5;241;43m=\u001b[39;49m\u001b[38;5;124;43m'\u001b[39;49m\u001b[38;5;124;43mpercentile\u001b[39;49m\u001b[38;5;124;43m'\u001b[39;49m\u001b[43m,\u001b[49m\u001b[43m \u001b[49m\u001b[43mvalue_name\u001b[49m\u001b[38;5;241;43m=\u001b[39;49m\u001b[38;5;124;43m'\u001b[39;49m\u001b[38;5;124;43mincome\u001b[39;49m\u001b[38;5;124;43m'\u001b[39;49m\u001b[43m)\u001b[49m\n\u001b[1;32m     16\u001b[0m w2_inc_df_melted \u001b[38;5;241m=\u001b[39m pd\u001b[38;5;241m.\u001b[39mmelt(w2_inc_df, id_vars\u001b[38;5;241m=\u001b[39m[\u001b[38;5;124m'\u001b[39m\u001b[38;5;124myear\u001b[39m\u001b[38;5;124m'\u001b[39m, \u001b[38;5;124m'\u001b[39m\u001b[38;5;124mage\u001b[39m\u001b[38;5;124m'\u001b[39m], var_name\u001b[38;5;241m=\u001b[39m\u001b[38;5;124m'\u001b[39m\u001b[38;5;124mpercentile\u001b[39m\u001b[38;5;124m'\u001b[39m, value_name\u001b[38;5;241m=\u001b[39m\u001b[38;5;124m'\u001b[39m\u001b[38;5;124mincome\u001b[39m\u001b[38;5;124m'\u001b[39m)\n\u001b[1;32m     17\u001b[0m nw_inc_df_melted \u001b[38;5;241m=\u001b[39m pd\u001b[38;5;241m.\u001b[39mmelt(nw_inc_df, id_vars\u001b[38;5;241m=\u001b[39m[\u001b[38;5;124m'\u001b[39m\u001b[38;5;124myear\u001b[39m\u001b[38;5;124m'\u001b[39m, \u001b[38;5;124m'\u001b[39m\u001b[38;5;124mage\u001b[39m\u001b[38;5;124m'\u001b[39m], var_name\u001b[38;5;241m=\u001b[39m\u001b[38;5;124m'\u001b[39m\u001b[38;5;124mpercentile\u001b[39m\u001b[38;5;124m'\u001b[39m, value_name\u001b[38;5;241m=\u001b[39m\u001b[38;5;124m'\u001b[39m\u001b[38;5;124mincome\u001b[39m\u001b[38;5;124m'\u001b[39m)\n",
      "File \u001b[0;32m/opt/homebrew/lib/python3.11/site-packages/pandas/core/reshape/melt.py:73\u001b[0m, in \u001b[0;36mmelt\u001b[0;34m(frame, id_vars, value_vars, var_name, value_name, col_level, ignore_index)\u001b[0m\n\u001b[1;32m     71\u001b[0m         missing \u001b[38;5;241m=\u001b[39m Index(com\u001b[38;5;241m.\u001b[39mflatten(id_vars))\u001b[38;5;241m.\u001b[39mdifference(cols)\n\u001b[1;32m     72\u001b[0m         \u001b[38;5;28;01mif\u001b[39;00m \u001b[38;5;129;01mnot\u001b[39;00m missing\u001b[38;5;241m.\u001b[39mempty:\n\u001b[0;32m---> 73\u001b[0m             \u001b[38;5;28;01mraise\u001b[39;00m \u001b[38;5;167;01mKeyError\u001b[39;00m(\n\u001b[1;32m     74\u001b[0m                 \u001b[38;5;124m\"\u001b[39m\u001b[38;5;124mThe following \u001b[39m\u001b[38;5;124m'\u001b[39m\u001b[38;5;124mid_vars\u001b[39m\u001b[38;5;124m'\u001b[39m\u001b[38;5;124m are not present \u001b[39m\u001b[38;5;124m\"\u001b[39m\n\u001b[1;32m     75\u001b[0m                 \u001b[38;5;124mf\u001b[39m\u001b[38;5;124m\"\u001b[39m\u001b[38;5;124min the DataFrame: \u001b[39m\u001b[38;5;132;01m{\u001b[39;00m\u001b[38;5;28mlist\u001b[39m(missing)\u001b[38;5;132;01m}\u001b[39;00m\u001b[38;5;124m\"\u001b[39m\n\u001b[1;32m     76\u001b[0m             )\n\u001b[1;32m     77\u001b[0m \u001b[38;5;28;01melse\u001b[39;00m:\n\u001b[1;32m     78\u001b[0m     id_vars \u001b[38;5;241m=\u001b[39m []\n",
      "\u001b[0;31mKeyError\u001b[0m: \"The following 'id_vars' are not present in the DataFrame: ['age', 'year']\""
     ]
    }
   ],
   "source": [
    "import pandas as pd\n",
    "import matplotlib.pyplot as plt\n",
    "\n",
    "# Read the data from table4a.csv\n",
    "df = pd.read_csv(\"./code_and_data/data/excel/table_4a.csv\")\n",
    "\n",
    "# Create separate DataFrames for each income type\n",
    "total_inc_cols = ['year', 'age'] + [col for col in df.columns if col.startswith('total_inc_')]\n",
    "w2_inc_cols = ['year', 'age'] + [col for col in df.columns if col.startswith('w2_inc_')]\n",
    "nw_inc_cols = ['year', 'age'] + [col for col in df.columns if col.startswith('nw_inc_')]\n",
    "\n",
    "total_inc_df = df[total_inc_cols]\n",
    "w2_inc_df = df[w2_inc_cols]\n",
    "nw_inc_df = df[nw_inc_cols]\n",
    "\n",
    "# Melt the DataFrames to convert percentiles to a single column\n",
    "total_inc_df_melted = pd.melt(total_inc_df, id_vars=['year', 'age'], var_name='percentile', value_name='income')\n",
    "w2_inc_df_melted = pd.melt(w2_inc_df, id_vars=['year', 'age'], var_name='percentile', value_name='income')\n",
    "nw_inc_df_melted = pd.melt(nw_inc_df, id_vars=['year', 'age'], var_name='percentile', value_name='income')\n",
    "\n",
    "# Create a function to plot income distributions by age\n",
    "def plot_income_dist_by_age(df, income_type, ages):\n",
    "    fig, axs = plt.subplots(len(ages), 1, figsize=(10, 6*len(ages)), sharex=True)\n",
    "    for i, age in enumerate(ages):\n",
    "        data = df[(df['age'] == age) & (df['percentile'].isin(['p10', 'p50', 'p90', 'mean']))]\n",
    "        axs[i].plot(data['percentile'], data['income'], marker='o')\n",
    "        axs[i].set_title(f\"{income_type} Income Distribution at Age {age}\")\n",
    "        axs[i].set_ylabel(\"Income (2012 USD)\")\n",
    "    axs[-1].set_xlabel(\"Percentile\")\n",
    "    plt.tight_layout()\n",
    "    plt.show()\n",
    "\n",
    "# Plot income distributions for selected ages\n",
    "ages = [30, 40, 50, 60]\n",
    "plot_income_dist_by_age(total_inc_df_melted, \"Total\", ages)\n",
    "plot_income_dist_by_age(w2_inc_df_melted, \"Wage\", ages)\n",
    "plot_income_dist_by_age(nw_inc_df_melted, \"Non-Wage\", ages)\n",
    "\n",
    "# Calculate mean incomes by age and income type\n",
    "mean_total_inc_by_age = total_inc_df.groupby('age')['total_inc_mean'].mean().reset_index()\n",
    "mean_w2_inc_by_age = w2_inc_df.groupby('age')['w2_inc_mean'].mean().reset_index()\n",
    "mean_nw_inc_by_age = nw_inc_df.groupby('age')['nw_inc_mean'].mean().reset_index()\n",
    "\n",
    "# Plot mean incomes by age and income type\n",
    "plt.figure(figsize=(10, 6))\n",
    "plt.plot(mean_total_inc_by_age['age'], mean_total_inc_by_age['total_inc_mean'], label='Total Income')\n",
    "plt.plot(mean_w2_inc_by_age['age'], mean_w2_inc_by_age['w2_inc_mean'], label='Wage Income')\n",
    "plt.plot(mean_nw_inc_by_age['age'], mean_nw_inc_by_age['nw_inc_mean'], label='Non-Wage Income')\n",
    "plt.xlabel(\"Age\")\n",
    "plt.ylabel(\"Mean Income (2012 USD)\")\n",
    "plt.title(\"Mean Income by Age and Income Type\")\n",
    "plt.legend()\n",
    "plt.show()"
   ]
  },
  {
   "cell_type": "code",
   "execution_count": null,
   "metadata": {},
   "outputs": [],
   "source": []
  }
 ],
 "metadata": {
  "kernelspec": {
   "display_name": "Python 3",
   "language": "python",
   "name": "python3"
  },
  "language_info": {
   "codemirror_mode": {
    "name": "ipython",
    "version": 3
   },
   "file_extension": ".py",
   "mimetype": "text/x-python",
   "name": "python",
   "nbconvert_exporter": "python",
   "pygments_lexer": "ipython3",
   "version": "3.11.6"
  }
 },
 "nbformat": 4,
 "nbformat_minor": 2
}
